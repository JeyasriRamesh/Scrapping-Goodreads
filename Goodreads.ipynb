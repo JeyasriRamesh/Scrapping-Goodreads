{
  "cells": [
    {
      "cell_type": "code",
      "execution_count": null,
      "metadata": {
        "id": "MfhSbC8Njmgx",
        "outputId": "d6b05f1d-1fff-4d45-a883-6000fe8870d8"
      },
      "outputs": [
        {
          "name": "stdout",
          "output_type": "stream",
          "text": [
            "NO. 12 TITLE:  The Ultimate Hitchhiker's Guide: Five Complete Novels and One Story AUTHOR:  Douglas Adams\n",
            "NO. 13 TITLE:  The Ultimate Hitchhiker's Guide to the Galaxy AUTHOR:  Douglas Adams\n",
            "NO. 14 TITLE:  The Hitchhiker's Guide to the Galaxy AUTHOR:  Douglas Adams\n",
            "NO. 15 TITLE:  The Hitchhiker's Guide to Lean: Lessons from the Road AUTHOR:  Jamie Flinchbaugh\n",
            "NO. 16 TITLE:  The Hitchhiker's Guide to the Galaxy AUTHOR:  Douglas Adams\n",
            "NO. 17 TITLE:  The Hitchhiker's Guide to the Galaxy: Quandary Phase AUTHOR:  Douglas Adams\n",
            "NO. 18 TITLE:  The Ultimate Hitchhiker's Guide AUTHOR:  Douglas Adams\n",
            "NO. 19 TITLE:  The Hitchhiker's Guide to the Galaxy: Quintessential Phase AUTHOR:  Douglas Adams\n"
          ]
        }
      ],
      "source": [
        "import time\n",
        "from bs4 import BeautifulSoup\n",
        "from selenium import webdriver\n",
        "##copy chromedriver into python folder\n",
        "driver = webdriver.Chrome()\n",
        "#driver.set_window_position(-2000,0)#this function will minimize the window\n",
        "first_url = 12\n",
        "last_url = 20     # Last book is 8,630,000\n",
        "\n",
        "for book_reference_number in range(first_url, last_url):\n",
        "    driver.get(\"https://www.goodreads.com/book/show/\"+str(book_reference_number))\n",
        "    #time.sleep(2)#optional\n",
        "    soup = BeautifulSoup(driver.page_source, 'lxml')\n",
        "    try:\n",
        "        book_title = soup.select('.gr-h1.gr-h1--serif')[0].text.strip()\n",
        "    except:\n",
        "        book_title = ''\n",
        "    try:\n",
        "        author_name = soup.select('.authorName')[0].text.strip()\n",
        "    except:\n",
        "        author_name = ''\n",
        "\n",
        "    print('NO.', book_reference_number, 'TITLE: ', book_title, 'AUTHOR: ', author_name)"
      ]
    },
    {
      "cell_type": "code",
      "execution_count": null,
      "metadata": {
        "id": "UubKiiJLjmg0"
      },
      "outputs": [],
      "source": [
        "https://www.goodreads.com/user/show/20071931-nicole\n",
        "https://www.goodreads.com/list/show/1\n",
        "https://www.goodreads.com/author/show/6526.K_b_Abe\n",
        "    "
      ]
    }
  ],
  "metadata": {
    "kernelspec": {
      "display_name": "Python 3",
      "language": "python",
      "name": "python3"
    },
    "language_info": {
      "codemirror_mode": {
        "name": "ipython",
        "version": 3
      },
      "file_extension": ".py",
      "mimetype": "text/x-python",
      "name": "python",
      "nbconvert_exporter": "python",
      "pygments_lexer": "ipython3",
      "version": "3.7.6"
    },
    "colab": {
      "name": "Goodreads.ipynb",
      "provenance": []
    }
  },
  "nbformat": 4,
  "nbformat_minor": 0
}